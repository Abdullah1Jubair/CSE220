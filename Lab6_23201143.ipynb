{
  "cells": [
    {
      "cell_type": "markdown",
      "metadata": {
        "id": "view-in-github",
        "colab_type": "text"
      },
      "source": [
        "<a href=\"https://colab.research.google.com/github/Abdullah1Jubair/CSE220/blob/main/Lab6_23201143.ipynb\" target=\"_parent\"><img src=\"https://colab.research.google.com/assets/colab-badge.svg\" alt=\"Open In Colab\"/></a>"
      ]
    },
    {
      "cell_type": "code",
      "execution_count": null,
      "metadata": {
        "id": "D6vC520OPeTa"
      },
      "outputs": [],
      "source": [
        "class BTNode:\n",
        "  def __init__(self, elem):\n",
        "    self.elem = elem\n",
        "    self.right = None\n",
        "    self.left = None"
      ]
    },
    {
      "cell_type": "code",
      "execution_count": null,
      "metadata": {
        "id": "UDTKlm4-PfNM"
      },
      "outputs": [],
      "source": [
        "def inorder(root):\n",
        "  if root == None:\n",
        "    return\n",
        "\n",
        "  inorder(root.left)\n",
        "  print(root.elem, end = ' ')\n",
        "  inorder(root.right)"
      ]
    },
    {
      "cell_type": "code",
      "execution_count": null,
      "metadata": {
        "id": "Rtc22SPzPgzM",
        "outputId": "26ff44a4-e2ab-4075-fcd6-566f47161e52",
        "colab": {
          "base_uri": "https://localhost:8080/"
        }
      },
      "outputs": [
        {
          "output_type": "stream",
          "name": "stdout",
          "text": [
            "H D B E A I F J C G k "
          ]
        }
      ],
      "source": [
        "def tree_construction(arr, i = 1):\n",
        "  if i>=len(arr) or arr[i] == None:\n",
        "    return None\n",
        "  p = BTNode(arr[i])\n",
        "  p.left = tree_construction(arr, 2*i)\n",
        "  p.right = tree_construction(arr, 2*i+1)\n",
        "  return p\n",
        "\n",
        "\n",
        "root2 = tree_construction([None, 'A', 'B', 'C', 'D', 'E', 'F', 'G', 'H', None, None, None, 'I', 'J', None, 'k'])\n",
        "inorder(root2)"
      ]
    },
    {
      "cell_type": "markdown",
      "metadata": {
        "id": "S2nNCJNhPqGq"
      },
      "source": [
        "Task 1"
      ]
    },
    {
      "cell_type": "code",
      "execution_count": null,
      "metadata": {
        "id": "zbBHU3FoPieb",
        "colab": {
          "base_uri": "https://localhost:8080/"
        },
        "outputId": "c3125c7d-5b3d-4869-9fc9-f1b8890d9213"
      },
      "outputs": [
        {
          "output_type": "stream",
          "name": "stdout",
          "text": [
            "LCA(6, 12) = 10\n",
            "LCA(20, 6) = 15\n",
            "LCA(18, 22) = 20\n",
            "LCA(20, 25) = 25\n",
            "LCA(10, 12) = 10\n"
          ]
        }
      ],
      "source": [
        "def LCA(root, x, y):\n",
        "    if root is None:\n",
        "        return None\n",
        "    if root.elem == x or root.elem == y:\n",
        "        return root\n",
        "    left = LCA(root.left,x,y)\n",
        "    right = LCA(root.right,x,y)\n",
        "\n",
        "    if left is not None and right is not None:\n",
        "        return root\n",
        "\n",
        "    if left is not None:\n",
        "        return left\n",
        "    else:\n",
        "        return right\n",
        "\n",
        "#DRIVER CODE\n",
        "root = BTNode(15)\n",
        "root.left = BTNode(10)\n",
        "root.right = BTNode(25)\n",
        "root.left.left = BTNode(8)\n",
        "root.left.right = BTNode(12)\n",
        "root.right.left = BTNode(20)\n",
        "root.right.right = BTNode(30)\n",
        "root.left.left.left = BTNode(6)\n",
        "root.left.left.right = BTNode(9)\n",
        "root.right.left.left = BTNode(18)\n",
        "root.right.left.right = BTNode(22)\n",
        "print(\"LCA(6, 12) =\", LCA(root, 6, 12).elem )\n",
        "print(\"LCA(20, 6) =\", LCA(root, 20, 6).elem )\n",
        "print(\"LCA(18, 22) =\", LCA(root, 18, 22).elem )\n",
        "print(\"LCA(20, 25) =\", LCA(root, 20, 25).elem )\n",
        "print(\"LCA(10, 12) =\", LCA(root, 10, 12).elem )"
      ]
    },
    {
      "cell_type": "markdown",
      "metadata": {
        "id": "c-TBf3m0PrtK"
      },
      "source": [
        "Task 2"
      ]
    },
    {
      "cell_type": "code",
      "source": [
        "def find_Path(root, key):\n",
        "    path = new(root, key)\n",
        "    if path is None:\n",
        "        return \"No Path Found\"\n",
        "    return path\n",
        "def new(root, key):\n",
        "    if root is None:\n",
        "        return None\n",
        "    if root.elem == key:\n",
        "        return [root.elem]\n",
        "\n",
        "    if key < root.elem:\n",
        "        left_path = new(root.left, key)\n",
        "        if left_path is not None:\n",
        "            return [root.elem] + left_path\n",
        "\n",
        "    elif key > root.elem:\n",
        "        right_path = new(root.right, key)\n",
        "        if right_path is not None:\n",
        "            return [root.elem] + right_path\n",
        "    return None\n",
        "\n",
        "\n",
        "#DRIVER CODE\n",
        "root = BTNode(30)\n",
        "root.left = BTNode(10)\n",
        "root.right = BTNode(40)\n",
        "root.left.left = BTNode(3)\n",
        "root.left.right = BTNode(15)\n",
        "root.right.left = BTNode(35)\n",
        "root.right.right = BTNode(55)\n",
        "print(find_Path(root,15))\n",
        "#This should print [30,10,15]\n",
        "\n",
        "print(find_Path(root,50))\n",
        "#This should print No Path Found"
      ],
      "metadata": {
        "id": "i6l-v7k1eE9A",
        "colab": {
          "base_uri": "https://localhost:8080/"
        },
        "outputId": "2e1bcc66-6cdb-4ccd-89d7-33667e06f2cd"
      },
      "execution_count": null,
      "outputs": [
        {
          "output_type": "stream",
          "name": "stdout",
          "text": [
            "[30, 10, 15]\n",
            "No Path Found\n"
          ]
        }
      ]
    },
    {
      "cell_type": "markdown",
      "metadata": {
        "id": "7r3lH3aWPz2d"
      },
      "source": [
        "Task 3"
      ]
    },
    {
      "cell_type": "code",
      "source": [
        "def sum_of_leaves(root, sum):\n",
        "    if root is None:\n",
        "        return sum\n",
        "    sum = summation(root.left,sum)\n",
        "    sum = summation(root.right,sum)\n",
        "    return sum\n",
        "\n",
        "def summation(root,sum):\n",
        "    if root is None:\n",
        "        return sum\n",
        "    if root.left is None and root.right is None:\n",
        "        sum += root.elem\n",
        "    else:\n",
        "        sum = summation(root.left,sum)\n",
        "        sum = summation(root.right,sum)\n",
        "    return sum\n",
        "\n",
        "\n",
        "#DRIVER CODE\n",
        "root = BTNode(30)\n",
        "node1 = BTNode(10)\n",
        "node2 = BTNode(40)\n",
        "node3 = BTNode(3)\n",
        "node4 = BTNode(15)\n",
        "node5 = BTNode(35)\n",
        "node6 = BTNode(55)\n",
        "node7 = BTNode(2)\n",
        "node8 = BTNode(36)\n",
        "\n",
        "root.left = node1\n",
        "root.right = node2\n",
        "node1.left = node3\n",
        "node1.right = node4\n",
        "node2.left = node5\n",
        "node2.right = node6\n",
        "node3.left = node7\n",
        "node5.right = node8\n",
        "\n",
        "print(sum_of_leaves(root, 0))"
      ],
      "metadata": {
        "id": "5eT12zYb8zm7",
        "colab": {
          "base_uri": "https://localhost:8080/"
        },
        "outputId": "6aae409b-6944-4b3d-d79a-ff8db752dc80"
      },
      "execution_count": null,
      "outputs": [
        {
          "output_type": "stream",
          "name": "stdout",
          "text": [
            "108\n"
          ]
        }
      ]
    },
    {
      "cell_type": "markdown",
      "metadata": {
        "id": "5KeA-BoC3uOo"
      },
      "source": [
        "Task 4"
      ]
    },
    {
      "cell_type": "code",
      "execution_count": null,
      "metadata": {
        "id": "zFwP64v4Pu6d",
        "colab": {
          "base_uri": "https://localhost:8080/"
        },
        "outputId": "f24081f7-3dd1-4dcb-f13a-7bb6d2dc5b12"
      },
      "outputs": [
        {
          "output_type": "stream",
          "name": "stdout",
          "text": [
            "Given Tree Inorder Traversal:  4 8 10 12 14 20 22 \n",
            "Inorder predecessor of node 20: 14\n",
            "Inorder predecessor of node 14: 12\n",
            "Inorder predecessor of node 10: 8\n"
          ]
        }
      ],
      "source": [
        "def inorder_predecessor(root, x):\n",
        "    if x.left:\n",
        "        pred = x.left\n",
        "        while pred.right:\n",
        "            pred = pred.right\n",
        "        return pred\n",
        "    pred = None\n",
        "    while root:\n",
        "        if x.elem < root.elem:\n",
        "            root = root.left\n",
        "        elif x.elem > root.elem:\n",
        "            pred = root\n",
        "            root = root.right\n",
        "        else:\n",
        "            break\n",
        "    return pred\n",
        "\n",
        "#DRIVER CODE\n",
        "root = BTNode(20)\n",
        "n1 = BTNode(8)\n",
        "n2 = BTNode(22)\n",
        "n3 = BTNode(4)\n",
        "n4 = BTNode(12)\n",
        "n5 = BTNode(10)\n",
        "n6 = BTNode(14)\n",
        "\n",
        "root.left = n1\n",
        "root.right = n2\n",
        "\n",
        "n1.left = n3\n",
        "n1.right = n4\n",
        "\n",
        "n4.left = n5\n",
        "n4.right = n6\n",
        "\n",
        "print('Given Tree Inorder Traversal: ', end = ' ')\n",
        "inorder(root) #Given Tree Inorder Traversal:  4 8 10 12 14 20 22\n",
        "print()\n",
        "\n",
        "x = root\n",
        "print(f'Inorder predecessor of node {x.elem}: {inorder_predecessor(root, x).elem}') #Inorder predecessor of node 20: 14\n",
        "x = root.left.right.right\n",
        "print(f'Inorder predecessor of node {x.elem}: {inorder_predecessor(root, x).elem}') #Inorder predecessor of node 14: 12\n",
        "x = root.left.right.left\n",
        "print(f'Inorder predecessor of node {x.elem}: {inorder_predecessor(root, x).elem}') #Inorder predecessor of node 10: 8"
      ]
    }
  ],
  "metadata": {
    "colab": {
      "provenance": [],
      "include_colab_link": true
    },
    "kernelspec": {
      "display_name": "Python 3",
      "name": "python3"
    },
    "language_info": {
      "name": "python"
    }
  },
  "nbformat": 4,
  "nbformat_minor": 0
}